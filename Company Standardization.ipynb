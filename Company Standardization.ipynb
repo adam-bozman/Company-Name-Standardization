{
 "cells": [
  {
   "cell_type": "code",
   "execution_count": 1,
   "metadata": {},
   "outputs": [],
   "source": [
    "import re\n",
    "import pandas as pd\n",
    "from sklearn.feature_extraction.text import TfidfVectorizer\n",
    "\n",
    "# Import your data to a Pandas.DataFrame\n",
    "df = pd.read_csv('results2.csv')\n",
    "\n",
    "# Grab the column you'd like to group, filter out duplicate values\n",
    "# and make sure the values are Unicode\n",
    "vals = df['Company Name'].unique().astype('U')\n",
    "\n",
    "\n",
    "# Write a function for cleaning strings and returning an array of ngrams\n",
    "def ngrams_analyzer(string):\n",
    "    string = re.sub(r'[,-./]', r'', string)\n",
    "    ngrams = zip(*[string[i:] for i in range(5)])  # N-Gram length is 5\n",
    "    return [''.join(ngram) for ngram in ngrams]\n",
    "\n",
    "# Construct your vectorizer for building the TF-IDF matrix\n",
    "vectorizer = TfidfVectorizer(analyzer=ngrams_analyzer)\n",
    "\n",
    "# Build the matrix!!!\n",
    "tfidf_matrix = vectorizer.fit_transform(vals)"
   ]
  },
  {
   "cell_type": "code",
   "execution_count": 2,
   "metadata": {},
   "outputs": [
    {
     "data": {
      "text/plain": [
       "<35852x114177 sparse matrix of type '<class 'numpy.float64'>'\n",
       "\twith 402211 stored elements in Compressed Sparse Row format>"
      ]
     },
     "execution_count": 2,
     "metadata": {},
     "output_type": "execute_result"
    }
   ],
   "source": [
    "tfidf_matrix"
   ]
  },
  {
   "cell_type": "code",
   "execution_count": 3,
   "metadata": {},
   "outputs": [],
   "source": [
    "# Import IGN's awesome_cossim_topn module\n",
    "from sparse_dot_topn import awesome_cossim_topn\n",
    "\n",
    "# The arguments for awesome_cossim_topn are as follows:\n",
    "### 1. Our TF-IDF matrix\n",
    "### 2. Our TF-IDF matrix transposed (allowing us to build a pairwise cosine matrix)\n",
    "### 3. A top_n filter, which allows us to filter the number of matches returned, which isn't useful for our purposes\n",
    "### 4. This is our similarity threshold. Only values over 0.8 will be returned\n",
    "cosine_matrix = awesome_cossim_topn(\n",
    "  tfidf_matrix,\n",
    "  tfidf_matrix.transpose(),\n",
    "  vals.size,\n",
    "  0.8\n",
    ")"
   ]
  },
  {
   "cell_type": "code",
   "execution_count": 4,
   "metadata": {},
   "outputs": [],
   "source": [
    "# Build a coordinate matrix from a cosine matrix\n",
    "coo_matrix = cosine_matrix.tocoo()\n",
    "\n",
    "# Instaniate our lookup hash table\n",
    "group_lookup = {}\n",
    "\n",
    "\n",
    "def find_group(row, col):\n",
    "    # If either the row or the col string have already been given\n",
    "    # a group, return that group. Otherwise return none\n",
    "    if row in group_lookup:\n",
    "        return group_lookup[row]\n",
    "    elif col in group_lookup:\n",
    "        return group_lookup[col]\n",
    "    else:\n",
    "        return None\n",
    "\n",
    "\n",
    "def add_vals_to_lookup(group, row, col):\n",
    "    # Once we know the group name, set it as the value\n",
    "    # for both strings in the group_lookup\n",
    "    group_lookup[row] = group\n",
    "    group_lookup[col] = group\n",
    "\n",
    "\n",
    "def add_pair_to_lookup(row, col):\n",
    "    # in this function we'll add both the row and the col to the lookup\n",
    "    group = find_group(row, col)  # first, see if one has already been added\n",
    "    if group is not None:\n",
    "        # if we already know the group, make sure both row and col are in lookup\n",
    "        add_vals_to_lookup(group, row, col)\n",
    "    else:\n",
    "        # if we get here, we need to add a new group.\n",
    "        # The name is arbitrary, so just make it the row\n",
    "        add_vals_to_lookup(row, row, col)\n",
    "\n",
    "# for each row and column in coo_matrix\n",
    "# if they're not the same string add them to the group lookup\n",
    "for row, col in zip(coo_matrix.row, coo_matrix.col):\n",
    "    if row != col:\n",
    "        # Note that what is passed to add_pair_to_lookup is the string at each index\n",
    "        # (eg: the names in the legal_name column) not the indices themselves\n",
    "        add_pair_to_lookup(vals[row], vals[col])"
   ]
  },
  {
   "cell_type": "code",
   "execution_count": 5,
   "metadata": {},
   "outputs": [],
   "source": [
    "df['Group'] = df['Company Name'].map(group_lookup).fillna(df['Company Name'])"
   ]
  },
  {
   "cell_type": "code",
   "execution_count": 6,
   "metadata": {},
   "outputs": [],
   "source": [
    "df.to_csv('group.csv')"
   ]
  },
  {
   "cell_type": "code",
   "execution_count": 7,
   "metadata": {},
   "outputs": [
    {
     "data": {
      "text/html": [
       "<div>\n",
       "<style scoped>\n",
       "    .dataframe tbody tr th:only-of-type {\n",
       "        vertical-align: middle;\n",
       "    }\n",
       "\n",
       "    .dataframe tbody tr th {\n",
       "        vertical-align: top;\n",
       "    }\n",
       "\n",
       "    .dataframe thead th {\n",
       "        text-align: right;\n",
       "    }\n",
       "</style>\n",
       "<table border=\"1\" class=\"dataframe\">\n",
       "  <thead>\n",
       "    <tr style=\"text-align: right;\">\n",
       "      <th></th>\n",
       "      <th>Company Name</th>\n",
       "      <th>Group</th>\n",
       "    </tr>\n",
       "  </thead>\n",
       "  <tbody>\n",
       "    <tr>\n",
       "      <th>0</th>\n",
       "      <td>Symantec</td>\n",
       "      <td>Symantec</td>\n",
       "    </tr>\n",
       "    <tr>\n",
       "      <th>1</th>\n",
       "      <td>IBM</td>\n",
       "      <td>IBM</td>\n",
       "    </tr>\n",
       "    <tr>\n",
       "      <th>2</th>\n",
       "      <td>Google</td>\n",
       "      <td>Google</td>\n",
       "    </tr>\n",
       "    <tr>\n",
       "      <th>3</th>\n",
       "      <td>Oracle</td>\n",
       "      <td>Oracle</td>\n",
       "    </tr>\n",
       "    <tr>\n",
       "      <th>4</th>\n",
       "      <td>Microsoft</td>\n",
       "      <td>Microsoft</td>\n",
       "    </tr>\n",
       "  </tbody>\n",
       "</table>\n",
       "</div>"
      ],
      "text/plain": [
       "  Company Name      Group\n",
       "0     Symantec   Symantec\n",
       "1          IBM        IBM\n",
       "2       Google     Google\n",
       "3       Oracle     Oracle\n",
       "4    Microsoft  Microsoft"
      ]
     },
     "execution_count": 7,
     "metadata": {},
     "output_type": "execute_result"
    }
   ],
   "source": [
    "df.head()"
   ]
  }
 ],
 "metadata": {
  "colab": {
   "authorship_tag": "ABX9TyNIE9+zXRBlD/rYittH4UmO",
   "collapsed_sections": [],
   "name": "Company Standardization.ipynb",
   "provenance": []
  },
  "kernelspec": {
   "display_name": "Python 3",
   "language": "python",
   "name": "python3"
  },
  "language_info": {
   "codemirror_mode": {
    "name": "ipython",
    "version": 3
   },
   "file_extension": ".py",
   "mimetype": "text/x-python",
   "name": "python",
   "nbconvert_exporter": "python",
   "pygments_lexer": "ipython3",
   "version": "3.7.7"
  }
 },
 "nbformat": 4,
 "nbformat_minor": 4
}
